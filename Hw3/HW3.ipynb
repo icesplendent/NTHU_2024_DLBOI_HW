{
 "cells": [
  {
   "cell_type": "markdown",
   "metadata": {
    "id": "8dBIMBMpa8LZ"
   },
   "source": [
    "# Import Library"
   ]
  },
  {
   "cell_type": "code",
   "execution_count": 1,
   "metadata": {
    "id": "XdshpulRajCG"
   },
   "outputs": [],
   "source": [
    "import matplotlib.pyplot as plt\n",
    "import numpy as np\n",
    "import random\n",
    "import time\n",
    "import torch\n",
    "import torch.nn as nn\n",
    "import torch.optim as optims\n",
    "\n",
    "from sklearn.metrics import accuracy_score\n",
    "from torch.utils.data import DataLoader\n",
    "from torchvision import datasets, transforms\n",
    "from torchvision.transforms.functional import InterpolationMode"
   ]
  },
  {
   "cell_type": "code",
   "execution_count": 2,
   "metadata": {
    "id": "nwp7lRWlbX_s"
   },
   "outputs": [
    {
     "name": "stdout",
     "output_type": "stream",
     "text": [
      "Using 1 GPUs\n",
      "CUDA is available: True\n"
     ]
    }
   ],
   "source": [
    "device = torch.device('cuda')\n",
    "gpu_count = torch.cuda.device_count()\n",
    "\n",
    "print(\"Using\", gpu_count, \"GPUs\")\n",
    "print(\"CUDA is available:\", torch.cuda.is_available())"
   ]
  },
  {
   "cell_type": "code",
   "execution_count": 3,
   "metadata": {
    "id": "O-QHGGMMbBur"
   },
   "outputs": [],
   "source": [
    "# train loop\n",
    "def train_one_epoch(model, device, criterion, optimizer, train_data_loader):\n",
    "    epoch_loss = []\n",
    "    epoch_acc = []\n",
    "    start_time = time.time()\n",
    "\n",
    "    model.train()\n",
    "\n",
    "    for batch_idx, (images, labels) in enumerate (train_data_loader):\n",
    "        images = images.to(device)\n",
    "        labels = labels.to(device).float()\n",
    "        optimizer.zero_grad()\n",
    "        preds = model(images)\n",
    "        loss = criterion(preds, labels.unsqueeze(1))\n",
    "\n",
    "        # Calculating Loss\n",
    "        epoch_loss.append(loss.item())\n",
    "\n",
    "        # Calculating Metrics\n",
    "        predicts = (preds > 0.5).float()\n",
    "        predicts = predicts.view(-1)\n",
    "        predicts = predicts.detach().cpu().numpy()\n",
    "        labels = labels.detach().cpu().numpy()\n",
    "        acc = accuracy_score(labels, predicts)\n",
    "\n",
    "        epoch_acc.append(acc)\n",
    "\n",
    "        # Backpropagation\n",
    "        loss.backward()\n",
    "        optimizer.step()\n",
    "\n",
    "    # Overall Epoch Results\n",
    "    end_time = time.time()\n",
    "    total_time = end_time - start_time\n",
    "\n",
    "    epoch_loss = np.mean(epoch_loss)\n",
    "    epoch_acc = np.mean(epoch_acc) * 100\n",
    "\n",
    "    return epoch_loss, epoch_acc, total_time\n",
    "\n",
    "# validation loop\n",
    "def val_one_epoch(model, device, criterion, val_data_loader, best_acc, save):\n",
    "    epoch_loss = []\n",
    "    epoch_acc = []\n",
    "    start_time = time.time()\n",
    "\n",
    "    model.eval()\n",
    "\n",
    "    with torch.no_grad():\n",
    "        for images, labels in val_data_loader:\n",
    "            images = images.to(device)\n",
    "            labels = labels.to(device).float()\n",
    "            preds = model(images)\n",
    "\n",
    "            # Calculating Loss\n",
    "            loss = criterion(preds, labels.unsqueeze(1))\n",
    "            epoch_loss.append(loss.item())\n",
    "\n",
    "            # Calculating Metrics\n",
    "            predicts = (preds > 0.5).float()\n",
    "            predicts = predicts.view(-1)\n",
    "            predicts = predicts.detach().cpu().numpy()\n",
    "            labels = labels.detach().cpu().numpy()\n",
    "            acc = accuracy_score(labels, predicts)\n",
    "            epoch_acc.append(acc)\n",
    "\n",
    "    # Overall Epoch Results\n",
    "    end_time = time.time()\n",
    "    total_time = end_time - start_time\n",
    "\n",
    "    epoch_loss = np.mean(epoch_loss)\n",
    "    epoch_acc = np.mean(epoch_acc) * 100\n",
    "\n",
    "    # Saving best model\n",
    "    if epoch_acc > best_acc:\n",
    "        best_acc = epoch_acc\n",
    "        torch.save(model.state_dict(), f\"{save}.pth\")\n",
    "\n",
    "    return epoch_loss, epoch_acc, total_time, best_acc\n",
    "\n",
    "# evaluate loop (test loop)\n",
    "def evaluate(model, device, model_path, test_loader):\n",
    "    try:\n",
    "        model.load_state_dict(torch.load(model_path))\n",
    "        print(\"Model weights loaded successfully.\")\n",
    "    except Exception as e:\n",
    "        print(\"Warning: Failed to load model weights. Using randomly initialized weights instead.\")\n",
    "        print(e)\n",
    "\n",
    "    model.to(device)\n",
    "    model.eval()\n",
    "\n",
    "    test_loss = []\n",
    "    test_acc = []\n",
    "\n",
    "    with torch.no_grad():\n",
    "        for images, labels in test_loader:\n",
    "            images = images.to(device)\n",
    "            labels = labels.to(device).float()\n",
    "\n",
    "            # Forward pass\n",
    "            preds = model(images)\n",
    "\n",
    "            # Calculating loss\n",
    "            loss = criterion(preds, labels.unsqueeze(1))\n",
    "            test_loss.append(loss.item())\n",
    "\n",
    "            # Calculating accuracy\n",
    "            predicts = (preds > 0.5).float()\n",
    "            predicts = predicts.view(-1)\n",
    "            predicts = predicts.detach().cpu().numpy()\n",
    "            labels = labels.detach().cpu().numpy()\n",
    "            acc = accuracy_score(labels, predicts)\n",
    "            test_acc.append(acc)\n",
    "\n",
    "    # Overall test results\n",
    "    avg_test_loss = np.mean(test_loss)\n",
    "    avg_test_acc = np.mean(test_acc) * 100\n",
    "\n",
    "    print(f\"Test Accuracy: {avg_test_acc:.2f}%\")\n",
    "    print(f\"Test Loss: {avg_test_loss:.4f}\")\n",
    "\n",
    "    return avg_test_loss, avg_test_acc"
   ]
  },
  {
   "cell_type": "markdown",
   "metadata": {
    "id": "V5Mz1-uybSmC"
   },
   "source": [
    "# Data Preparation"
   ]
  },
  {
   "cell_type": "code",
   "execution_count": null,
   "metadata": {
    "colab": {
     "base_uri": "https://localhost:8080/"
    },
    "id": "rWULx9svbXJD",
    "outputId": "a3eca7ae-5d93-45b2-faa9-c88685c50a87"
   },
   "outputs": [
    {
     "name": "stdout",
     "output_type": "stream",
     "text": [
      "Mounted at /content/drive/\n"
     ]
    }
   ],
   "source": [
    "# from google.colab import drive\n",
    "# drive.mount('/content/drive/')"
   ]
  },
  {
   "cell_type": "code",
   "execution_count": 90,
   "metadata": {
    "id": "DpL62qzsbkcj"
   },
   "outputs": [],
   "source": [
    "# define folder path for each set\n",
    "# train_path = '/content/drive/MyDrive/PhD/DLBOI/Lab 3/chest_xray/train'\n",
    "# test_path = '/content/drive/MyDrive/PhD/DLBOI/Lab 3/chest_xray/test'\n",
    "# val_path = '/content/drive/MyDrive/PhD/DLBOI/Lab 3/chest_xray/val'\n",
    "# train_path = '/Users/icesplendent/Desktop/DL_biotech/Hw/Hw3/chest_xray/train'\n",
    "# test_path = '/Users/icesplendent/Desktop/DL_biotech/Hw/Hw3/chest_xray/test'\n",
    "# val_path = '/Users/icesplendent/Desktop/DL_biotech/Hw/Hw3/chest_xray/val'\n",
    "train_path = 'C:/Users/USER/Desktop/DL_biotech/Hw3/chest_xray/train'\n",
    "test_path = 'C:/Users/USER/Desktop/DL_biotech/Hw3/chest_xray/test'\n",
    "val_path = 'C:/Users/USER/Desktop/DL_biotech/Hw3/chest_xray/val'\n",
    "\n",
    "\n",
    "# define transformation\n",
    "train_transform = transforms.Compose([\n",
    "    transforms.Resize((256, 256), interpolation=InterpolationMode.BICUBIC),\n",
    "    # transforms.RandomRotation(5),\n",
    "    # transforms.RandomCrop(224, pad_if_needed=True, padding=16),\n",
    "    transforms.Grayscale(num_output_channels=1),\n",
    "    transforms.ToTensor(),\n",
    "])\n",
    "\n",
    "common_transform = transforms.Compose([\n",
    "    transforms.Resize((256, 256), interpolation=InterpolationMode.BICUBIC),\n",
    "    transforms.Grayscale(num_output_channels=1),\n",
    "    transforms.ToTensor(),\n",
    "])\n",
    "\n",
    "# create datasets\n",
    "train_dataset = datasets.ImageFolder(train_path, transform=train_transform)\n",
    "test_dataset = datasets.ImageFolder(test_path, transform=common_transform)\n",
    "val_dataset = datasets.ImageFolder(val_path, transform=common_transform)\n",
    "\n",
    "# create dataloaders\n",
    "train_loader = DataLoader(train_dataset, batch_size=64, shuffle=True)\n",
    "val_loader = DataLoader(val_dataset, batch_size=64, shuffle=False)\n",
    "test_loader = DataLoader(test_dataset, batch_size=64, shuffle=False)\n"
   ]
  },
  {
   "cell_type": "markdown",
   "metadata": {
    "id": "QxPrGZFPmvoO"
   },
   "source": [
    "# Model"
   ]
  },
  {
   "cell_type": "code",
   "execution_count": 115,
   "metadata": {
    "id": "ml-6AVUimusM"
   },
   "outputs": [
    {
     "name": "stdout",
     "output_type": "stream",
     "text": [
      "Sequential(\n",
      "  (0): Flatten(start_dim=1, end_dim=-1)\n",
      "  (1): Linear(in_features=65536, out_features=64, bias=True)\n",
      "  (2): BatchNorm1d(64, eps=1e-05, momentum=0.1, affine=True, track_running_stats=True)\n",
      "  (3): ReLU()\n",
      "  (4): Dropout(p=0.5, inplace=False)\n",
      "  (5): Linear(in_features=64, out_features=64, bias=True)\n",
      "  (6): BatchNorm1d(64, eps=1e-05, momentum=0.1, affine=True, track_running_stats=True)\n",
      "  (7): ReLU()\n",
      "  (8): Dropout(p=0.5, inplace=False)\n",
      "  (9): Linear(in_features=64, out_features=64, bias=True)\n",
      "  (10): BatchNorm1d(64, eps=1e-05, momentum=0.1, affine=True, track_running_stats=True)\n",
      "  (11): ReLU()\n",
      "  (12): Dropout(p=0.5, inplace=False)\n",
      "  (13): Linear(in_features=64, out_features=64, bias=True)\n",
      "  (14): BatchNorm1d(64, eps=1e-05, momentum=0.1, affine=True, track_running_stats=True)\n",
      "  (15): ReLU()\n",
      "  (16): Dropout(p=0.5, inplace=False)\n",
      "  (17): Linear(in_features=64, out_features=1, bias=True)\n",
      "  (18): Sigmoid()\n",
      ")\n"
     ]
    }
   ],
   "source": [
    "model = nn.Sequential(\n",
    "    nn.Flatten(),\n",
    "    nn.Linear(256 * 256 * 1, 64), # input neons to output neons\n",
    "    nn.BatchNorm1d(64),\n",
    "    nn.ReLU(),\n",
    "    nn.Dropout(0.5),\n",
    "\n",
    "    nn.Linear(64, 64),\n",
    "    nn.BatchNorm1d(64),\n",
    "    nn.ReLU(),\n",
    "    nn.Dropout(0.5),\n",
    "\n",
    "    nn.Linear(64, 64),\n",
    "    nn.BatchNorm1d(64),\n",
    "    nn.ReLU(),\n",
    "    nn.Dropout(0.5),\n",
    "\n",
    "    nn.Linear(64, 64),\n",
    "    nn.BatchNorm1d(64),\n",
    "    nn.ReLU(),\n",
    "    nn.Dropout(0.5),\n",
    "\n",
    "    nn.Linear(64, 1),\n",
    "    nn.Sigmoid()\n",
    ")\n",
    "\n",
    "model.to(device)\n",
    "print(model)"
   ]
  },
  {
   "cell_type": "markdown",
   "metadata": {
    "id": "SdTAY4X1CXUu"
   },
   "source": [
    "# Loop"
   ]
  },
  {
   "cell_type": "code",
   "execution_count": null,
   "metadata": {
    "id": "w_EzCFAjCWp9"
   },
   "outputs": [],
   "source": [
    "# hyperparameter\n",
    "lr = 0.0005\n",
    "weight_decay = 0.0001\n",
    "epochs = 15\n",
    "optimizer = optims.Adam(model.parameters(), lr=lr, weight_decay = weight_decay)\n",
    "lr_scheduler = optims.lr_scheduler.ReduceLROnPlateau(optimizer, factor=0.1, patience=5, mode='max')\n",
    "criterion = nn.BCELoss()\n",
    "\n",
    "# save checkpoint\n",
    "save = 'model'"
   ]
  },
  {
   "cell_type": "code",
   "execution_count": 117,
   "metadata": {
    "id": "oxdqJu8wCae3"
   },
   "outputs": [
    {
     "name": "stdout",
     "output_type": "stream",
     "text": [
      "Epoch 1/15 - loss: 0.6700 - train_acc: 57.91% - val_loss: 0.6365 - val_acc: 81.25% - time: 30.88s\n",
      "Epoch 2/15 - loss: 0.5988 - train_acc: 68.02% - val_loss: 0.6065 - val_acc: 75.00% - time: 30.60s\n",
      "Epoch 3/15 - loss: 0.4815 - train_acc: 81.59% - val_loss: 0.5667 - val_acc: 75.00% - time: 31.17s\n",
      "Epoch 4/15 - loss: 0.3700 - train_acc: 88.18% - val_loss: 0.4715 - val_acc: 87.50% - time: 30.77s\n",
      "Epoch 5/15 - loss: 0.2943 - train_acc: 91.16% - val_loss: 0.4028 - val_acc: 81.25% - time: 30.69s\n",
      "Epoch 6/15 - loss: 0.2347 - train_acc: 93.90% - val_loss: 0.4600 - val_acc: 75.00% - time: 31.16s\n",
      "Epoch 7/15 - loss: 0.2021 - train_acc: 94.38% - val_loss: 0.3825 - val_acc: 75.00% - time: 31.15s\n",
      "Epoch 8/15 - loss: 0.1750 - train_acc: 95.36% - val_loss: 0.3839 - val_acc: 81.25% - time: 30.74s\n",
      "Epoch 9/15 - loss: 0.1568 - train_acc: 95.85% - val_loss: 0.4011 - val_acc: 81.25% - time: 31.42s\n",
      "Epoch 10/15 - loss: 0.1503 - train_acc: 95.75% - val_loss: 0.7246 - val_acc: 68.75% - time: 31.10s\n",
      "Epoch 11/15 - loss: 0.1331 - train_acc: 96.19% - val_loss: 0.2574 - val_acc: 93.75% - time: 31.07s\n",
      "Epoch 12/15 - loss: 0.1238 - train_acc: 97.31% - val_loss: 0.2985 - val_acc: 93.75% - time: 31.25s\n",
      "Epoch 13/15 - loss: 0.1173 - train_acc: 96.97% - val_loss: 0.2592 - val_acc: 93.75% - time: 30.87s\n",
      "Epoch 14/15 - loss: 0.1161 - train_acc: 97.22% - val_loss: 0.2825 - val_acc: 93.75% - time: 30.80s\n",
      "Epoch 15/15 - loss: 0.1232 - train_acc: 96.83% - val_loss: 0.2213 - val_acc: 93.75% - time: 31.31s\n"
     ]
    }
   ],
   "source": [
    "train_losses = []\n",
    "val_losses = []\n",
    "train_accuracies = []\n",
    "val_accuracies = []\n",
    "\n",
    "best_acc = 0.0\n",
    "output_list = []\n",
    "\n",
    "for epoch in range(epochs):\n",
    "    train_loss, train_acc, train_time = train_one_epoch(model, device, criterion, optimizer, train_loader)\n",
    "    val_loss, val_acc, val_time, best_acc = val_one_epoch(model, device, criterion, val_loader, best_acc, save)\n",
    "\n",
    "    train_losses.append(train_loss)\n",
    "    val_losses.append(val_loss)\n",
    "    train_accuracies.append(train_acc)\n",
    "    val_accuracies.append(val_acc)\n",
    "\n",
    "    total_time = train_time + val_time\n",
    "    output_str = f\"Epoch {epoch+1}/{epochs} - loss: {train_loss:.4f} - train_acc: {train_acc:.2f}% - val_loss: {val_loss:.4f} - val_acc: {val_acc:.2f}% - time: {total_time:.2f}s\"\n",
    "    output_list.append(output_str)\n",
    "    print(output_str)\n",
    "    lr_scheduler.step(val_acc)"
   ]
  },
  {
   "cell_type": "markdown",
   "metadata": {},
   "source": []
  },
  {
   "cell_type": "markdown",
   "metadata": {
    "id": "UGz-VUPmCgf4"
   },
   "source": [
    "# Graph"
   ]
  },
  {
   "cell_type": "code",
   "execution_count": 118,
   "metadata": {
    "id": "an1QmoF0CjAV"
   },
   "outputs": [
    {
     "name": "stdout",
     "output_type": "stream",
     "text": [
      "foo\n"
     ]
    },
    {
     "data": {
      "image/png": "[encoded data removed]",
      "text/plain": [
       "<Figure size 1200x500 with 2 Axes>"
      ]
     },
     "metadata": {},
     "output_type": "display_data"
    },
    {
     "name": "stdout",
     "output_type": "stream",
     "text": [
      "foo\n"
     ]
    }
   ],
   "source": [
    "print(\"foo\")\n",
    "plt.figure(figsize=(12, 5))\n",
    "\n",
    "# loss graph\n",
    "plt.subplot(1, 2, 1)\n",
    "plt.plot(train_losses, label='Train Loss')\n",
    "plt.plot(val_losses, label='Validation Loss')\n",
    "plt.title('Loss Curve')\n",
    "plt.xlabel('Epochs')\n",
    "plt.ylabel('Loss')\n",
    "plt.legend()\n",
    "\n",
    "# accuracy graph\n",
    "plt.subplot(1, 2, 2)\n",
    "plt.plot(train_accuracies, label='Train Accuracy')\n",
    "plt.plot(val_accuracies, label='Validation Accuracy')\n",
    "plt.title('Accuracy Curve')\n",
    "plt.xlabel('Epochs')\n",
    "plt.ylabel('Accuracy (%)')\n",
    "plt.legend()\n",
    "\n",
    "# show\n",
    "plt.tight_layout()\n",
    "plt.show()\n",
    "print(\"foo\")"
   ]
  },
  {
   "cell_type": "markdown",
   "metadata": {
    "id": "W5W5mX4KH0eg"
   },
   "source": [
    "# Evaluate"
   ]
  },
  {
   "cell_type": "code",
   "execution_count": 119,
   "metadata": {
    "id": "50oemy4aH2nW"
   },
   "outputs": [
    {
     "name": "stderr",
     "output_type": "stream",
     "text": [
      "C:\\Users\\USER\\AppData\\Local\\Temp\\ipykernel_1596\\3487771083.py:84: FutureWarning: You are using `torch.load` with `weights_only=False` (the current default value), which uses the default pickle module implicitly. It is possible to construct malicious pickle data which will execute arbitrary code during unpickling (See https://github.com/pytorch/pytorch/blob/main/SECURITY.md#untrusted-models for more details). In a future release, the default value for `weights_only` will be flipped to `True`. This limits the functions that could be executed during unpickling. Arbitrary objects will no longer be allowed to be loaded via this mode unless they are explicitly allowlisted by the user via `torch.serialization.add_safe_globals`. We recommend you start setting `weights_only=True` for any use case where you don't have full control of the loaded file. Please open an issue on GitHub for any issues related to this experimental feature.\n",
      "  model.load_state_dict(torch.load(model_path))\n"
     ]
    },
    {
     "name": "stdout",
     "output_type": "stream",
     "text": [
      "Model weights loaded successfully.\n",
      "Test Accuracy: 82.24%\n",
      "Test Loss: 0.4397\n"
     ]
    }
   ],
   "source": [
    "model_path = 'model.pth'\n",
    "avg_test_loss, avg_test_acc = evaluate(model, device, model_path, test_loader)"
   ]
  },
  {
   "cell_type": "code",
   "execution_count": null,
   "metadata": {},
   "outputs": [],
   "source": []
  }
 ],
 "metadata": {
  "colab": {
   "provenance": []
  },
  "kernelspec": {
   "display_name": ".venv",
   "language": "python",
   "name": "python3"
  },
  "language_info": {
   "codemirror_mode": {
    "name": "ipython",
    "version": 3
   },
   "file_extension": ".py",
   "mimetype": "text/x-python",
   "name": "python",
   "nbconvert_exporter": "python",
   "pygments_lexer": "ipython3",
   "version": "3.11.9"
  }
 },
 "nbformat": 4,
 "nbformat_minor": 0
}
